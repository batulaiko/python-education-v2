{
  "nbformat": 4,
  "nbformat_minor": 0,
  "metadata": {
    "colab": {
      "name": "day2.ipynb",
      "provenance": [],
      "collapsed_sections": [],
      "authorship_tag": "ABX9TyOGDlb/1JxGjfBxmByJB/lg",
      "include_colab_link": true
    },
    "kernelspec": {
      "name": "python3",
      "display_name": "Python 3"
    }
  },
  "cells": [
    {
      "cell_type": "markdown",
      "metadata": {
        "id": "view-in-github",
        "colab_type": "text"
      },
      "source": [
        "<a href=\"https://colab.research.google.com/github/batulaiko/python-education-v2/blob/main/homework/day2_solved.ipynb\" target=\"_parent\"><img src=\"https://colab.research.google.com/assets/colab-badge.svg\" alt=\"Open In Colab\"/></a>"
      ]
    },
    {
      "cell_type": "markdown",
      "metadata": {
        "id": "1SWsOS7Pzk0T"
      },
      "source": [
        "1. Create a list and swap the second half of list with the first half of the list and print this list on the screen\r\n",
        "2. Ask the user to input a single digit integer to a variable \"n\". Then, print out all of the even number from 0 to n (including n)  "
      ]
    },
    {
      "cell_type": "code",
      "metadata": {
        "id": "lpmhxO5gzloK",
        "colab": {
          "base_uri": "https://localhost:8080/"
        },
        "outputId": "2dbc8881-ff0c-42a9-c3f3-859d0b111413"
      },
      "source": [
        "# 1st Question\r\n",
        "list1 = [1,2,3,4,5,6]\r\n",
        "new_list = list1[int(len(list1)/2):] + list1[:int(len(list1)/2)]\r\n",
        "print(new_list)"
      ],
      "execution_count": 5,
      "outputs": [
        {
          "output_type": "stream",
          "text": [
            "[4, 5, 6, 1, 2, 3]\n"
          ],
          "name": "stdout"
        }
      ]
    },
    {
      "cell_type": "code",
      "metadata": {
        "colab": {
          "base_uri": "https://localhost:8080/"
        },
        "id": "j-_ZgcsCPJ6A",
        "outputId": "dd7a02b2-0a0f-457f-d045-cafc57f32a79"
      },
      "source": [
        "# 2nd Question\r\n",
        "\r\n",
        "user_input = int(input(\"Enter a integer number please : \"))\r\n",
        "for i in range((user_input+1)):\r\n",
        "  if i%2==0:\r\n",
        "    print(i)"
      ],
      "execution_count": 4,
      "outputs": [
        {
          "output_type": "stream",
          "text": [
            "Enter a integer number please : 12\n",
            "0\n",
            "2\n",
            "4\n",
            "6\n",
            "8\n",
            "10\n",
            "12\n"
          ],
          "name": "stdout"
        }
      ]
    }
  ]
}