{
  "nbformat": 4,
  "nbformat_minor": 0,
  "metadata": {
    "colab": {
      "name": "day3_solved.ipynb",
      "provenance": [],
      "collapsed_sections": [],
      "authorship_tag": "ABX9TyNjWzWYXikSQbbQhk6JKJbL",
      "include_colab_link": true
    },
    "kernelspec": {
      "name": "python3",
      "display_name": "Python 3"
    }
  },
  "cells": [
    {
      "cell_type": "markdown",
      "metadata": {
        "id": "view-in-github",
        "colab_type": "text"
      },
      "source": [
        "<a href=\"https://colab.research.google.com/github/batulaiko/python-education-v2/blob/main/homework/day3_solved.ipynb\" target=\"_parent\"><img src=\"https://colab.research.google.com/assets/colab-badge.svg\" alt=\"Open In Colab\"/></a>"
      ]
    },
    {
      "cell_type": "markdown",
      "metadata": {
        "id": "nx04BNXqELJt"
      },
      "source": [
        "User login application:\r\n",
        "\r\n",
        "> \r\n",
        "\r\n",
        "\r\n",
        "      -Get Username and Password values from user.\r\n",
        "      -Check the values in an if statement and tell the user if they successful.\r\n",
        "\r\n",
        "Extra:\r\n",
        ">\r\n",
        "      -Try building the same user login application but this time, use a dictionary."
      ]
    },
    {
      "cell_type": "code",
      "metadata": {
        "colab": {
          "base_uri": "https://localhost:8080/"
        },
        "id": "n000sBzBEL1K",
        "outputId": "15777cca-9cea-4f55-9567-1f92f15104d8"
      },
      "source": [
        "try_count = 5\r\n",
        "for i in range(try_count):\r\n",
        "  username = input(\"Username : \")\r\n",
        "  password = input(\"Password : \")\r\n",
        "  if username == \"batu\" and password == \"b\":\r\n",
        "    print(\"Login is successful.\")\r\n",
        "    break\r\n",
        "  else:\r\n",
        "    print(f\"Try {i} is not successful.\\n{try_count - i} left.\")"
      ],
      "execution_count": 4,
      "outputs": [
        {
          "output_type": "stream",
          "text": [
            "Username : try_1\n",
            "Password : try\n",
            "Try 0 is not successful.\n",
            "5 left.\n",
            "Username : try_2\n",
            "Password : try2\n",
            "Try 1 is not successful.\n",
            "4 left.\n",
            "Username : batu\n",
            "Password : b\n",
            "Login is successful.\n"
          ],
          "name": "stdout"
        }
      ]
    },
    {
      "cell_type": "code",
      "metadata": {
        "colab": {
          "base_uri": "https://localhost:8080/"
        },
        "id": "PpMpTsLEGNxz",
        "outputId": "7cfeebde-e24e-4062-9978-2dfcaf4f69ed"
      },
      "source": [
        "try_count = 3\r\n",
        "login_statement = False\r\n",
        "user_values = {\r\n",
        "    \"batu\" : \"b\",\r\n",
        "    \"globalaihub\" : \"python\"\r\n",
        "  }\r\n",
        "for i in range(try_count):\r\n",
        "  username = input(\"Username : \")\r\n",
        "  password = input(\"Password : \")\r\n",
        "  for user,psw in user_values.items():\r\n",
        "    if username == user and password == psw:\r\n",
        "      print(\"Login is successful.\")\r\n",
        "      login_statement = True\r\n",
        "      break\r\n",
        "  else:\r\n",
        "    print(f\"Try {i} is not successful.\\n{try_count - (i+1)} left.\")\r\n",
        "  if login_statement:\r\n",
        "    break"
      ],
      "execution_count": 12,
      "outputs": [
        {
          "output_type": "stream",
          "text": [
            "Username : aa\n",
            "Password : aa\n",
            "Try 0 is not successful.\n",
            "2 left.\n",
            "Username : try\n",
            "Password : try1\n",
            "Try 1 is not successful.\n",
            "1 left.\n",
            "Username : globalaihub\n",
            "Password : python\n",
            "Login is successful.\n"
          ],
          "name": "stdout"
        }
      ]
    }
  ]
}