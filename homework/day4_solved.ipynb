{
  "nbformat": 4,
  "nbformat_minor": 0,
  "metadata": {
    "colab": {
      "name": "day4_solved.ipynb",
      "provenance": [],
      "authorship_tag": "ABX9TyMQAMvfo0VK9wPiwOPLciJv",
      "include_colab_link": true
    },
    "kernelspec": {
      "name": "python3",
      "display_name": "Python 3"
    }
  },
  "cells": [
    {
      "cell_type": "markdown",
      "metadata": {
        "id": "view-in-github",
        "colab_type": "text"
      },
      "source": [
        "<a href=\"https://colab.research.google.com/github/batulaiko/python-education-v2/blob/main/homework/day4_solved.ipynb\" target=\"_parent\"><img src=\"https://colab.research.google.com/assets/colab-badge.svg\" alt=\"Open In Colab\"/></a>"
      ]
    },
    {
      "cell_type": "markdown",
      "metadata": {
        "id": "1Q3bRJiZIbaS"
      },
      "source": [
        "\r\n",
        "\r\n",
        "*   List prime numbers between 0 and 100 using functions.\r\n",
        "\r\n"
      ]
    },
    {
      "cell_type": "code",
      "metadata": {
        "colab": {
          "base_uri": "https://localhost:8080/"
        },
        "id": "qkdo2iLJIUyc",
        "outputId": "50bda6b4-db88-458c-c1a4-2e6ac7f71277"
      },
      "source": [
        "def prime_check(first_num=0,last_num=100):\r\n",
        "  prime_list = []\r\n",
        "  for number in range(first_num,last_num + 1):\r\n",
        "    if number>1:\r\n",
        "      for check in range(2,number):\r\n",
        "        if number%check== 0:\r\n",
        "          break\r\n",
        "      else:\r\n",
        "        prime_list.append(number)\r\n",
        "        #print(number)\r\n",
        "  return prime_list\r\n",
        "\r\n",
        "primes = prime_check(0,100)\r\n",
        "print(primes)"
      ],
      "execution_count": 6,
      "outputs": [
        {
          "output_type": "stream",
          "text": [
            "[2, 3, 5, 7, 11, 13, 17, 19, 23, 29, 31, 37, 41, 43, 47, 53, 59, 61, 67, 71, 73, 79, 83, 89, 97]\n"
          ],
          "name": "stdout"
        }
      ]
    }
  ]
}