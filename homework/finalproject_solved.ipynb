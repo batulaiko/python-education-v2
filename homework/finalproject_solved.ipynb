{
  "nbformat": 4,
  "nbformat_minor": 0,
  "metadata": {
    "colab": {
      "name": "finalproject_solved.ipynb",
      "provenance": [],
      "collapsed_sections": [],
      "authorship_tag": "ABX9TyMTR87N8bh4SmGBCnjSSoK7",
      "include_colab_link": true
    },
    "kernelspec": {
      "name": "python3",
      "display_name": "Python 3"
    }
  },
  "cells": [
    {
      "cell_type": "markdown",
      "metadata": {
        "id": "view-in-github",
        "colab_type": "text"
      },
      "source": [
        "<a href=\"https://colab.research.google.com/github/batulaiko/python-education-v2/blob/main/homework/finalproject_solved.ipynb\" target=\"_parent\"><img src=\"https://colab.research.google.com/assets/colab-badge.svg\" alt=\"Open In Colab\"/></a>"
      ]
    },
    {
      "cell_type": "markdown",
      "metadata": {
        "id": "LU3BqKUFlWca"
      },
      "source": [
        "\r\n",
        "Company Management System\r\n",
        "\r\n",
        "> \r\n",
        "* Determine the names and ages of employees, company managers, and the languages they speak. \r\n",
        "* Then write a program that will print the languages that any of the employees can speak.\r\n",
        "* In this project, complete the project by creating 2 classes named employees and manager.\r\n",
        "\r\n"
      ]
    },
    {
      "cell_type": "code",
      "metadata": {
        "id": "_oD1pszbnn7k"
      },
      "source": [
        "workers = {\r\n",
        "    \"Alan Turing\" : [34,\"English\",\"Manager\"],\r\n",
        "    \"Albert Einstein\" : [42,\"German\",\"Employee\"],\r\n",
        "    \"Batu Yildirim\" : [23,\"Turkish\",\"Employee\"],\r\n",
        "    \"Selami Tandemir\" : [27,\"Turkish\",\"Manager\"],\r\n",
        "    \"Elon Musk\" : [36,\"English\",\"Employee\"]\r\n",
        "    }"
      ],
      "execution_count": 1,
      "outputs": []
    },
    {
      "cell_type": "code",
      "metadata": {
        "id": "R7cRQyC_U09z"
      },
      "source": [
        "class employees():\r\n",
        "  def __init__(self,name,age,lang):\r\n",
        "    self.employee_name = name\r\n",
        "    self.employee_age = age\r\n",
        "    self.employee_lang = lang\r\n",
        "    self.employee_class = \"Employee\"\r\n",
        "\r\n",
        "  def language(self):\r\n",
        "    print(f\"{self.employee_name} is speaking {self.employee_lang}.\\n\")\r\n",
        "\r\n",
        "\r\n",
        "class manager():\r\n",
        "  def __init__(self,name,age,lang):\r\n",
        "    self.manager_name = name\r\n",
        "    self.manager_age = age\r\n",
        "    self.manager_lang = lang\r\n",
        "    self.manager_class = \"Manager\"\r\n",
        "\r\n",
        "  def language(self):\r\n",
        "    print(f\"{self.manager_name} is speaking {self.manager_lang}.\\n\")\r\n",
        "  "
      ],
      "execution_count": 19,
      "outputs": []
    },
    {
      "cell_type": "code",
      "metadata": {
        "colab": {
          "base_uri": "https://localhost:8080/"
        },
        "id": "Q1XMgZetptNq",
        "outputId": "8697f7da-46bd-4fdc-83d6-708f2a35875f"
      },
      "source": [
        "for names,values in workers.items():\r\n",
        "  if values[2] == \"Employee\":\r\n",
        "    print(f\"{names} is an Employee.\")\r\n",
        "    emp = employees(names,values[0],values[1])\r\n",
        "    emp.language()\r\n",
        "  else:\r\n",
        "    print(f\"{names} is a Manager\")\r\n",
        "    emp = employees(names,values[0],values[1])\r\n",
        "    emp.language()"
      ],
      "execution_count": 20,
      "outputs": [
        {
          "output_type": "stream",
          "text": [
            "Alan Turing is a Manager\n",
            "Alan Turing is speaking English.\n",
            "\n",
            "Albert Einstein is an Employee.\n",
            "Albert Einstein is speaking German.\n",
            "\n",
            "Batu Yildirim is an Employee.\n",
            "Batu Yildirim is speaking Turkish.\n",
            "\n",
            "Selami Tandemir is a Manager\n",
            "Selami Tandemir is speaking Turkish.\n",
            "\n",
            "Elon Musk is an Employee.\n",
            "Elon Musk is speaking English.\n",
            "\n"
          ],
          "name": "stdout"
        }
      ]
    }
  ]
}