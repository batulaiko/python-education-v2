{
  "nbformat": 4,
  "nbformat_minor": 0,
  "metadata": {
    "colab": {
      "name": "day5_solved.ipynb",
      "provenance": [],
      "authorship_tag": "ABX9TyNdugXhadugvufXukiPbr/C",
      "include_colab_link": true
    },
    "kernelspec": {
      "name": "python3",
      "display_name": "Python 3"
    }
  },
  "cells": [
    {
      "cell_type": "markdown",
      "metadata": {
        "id": "view-in-github",
        "colab_type": "text"
      },
      "source": [
        "<a href=\"https://colab.research.google.com/github/batulaiko/python-education-v2/blob/main/homework/day5_solved.ipynb\" target=\"_parent\"><img src=\"https://colab.research.google.com/assets/colab-badge.svg\" alt=\"Open In Colab\"/></a>"
      ]
    },
    {
      "cell_type": "markdown",
      "metadata": {
        "id": "UyUuVZ-xLjRs"
      },
      "source": [
        "\r\n",
        "\r\n",
        "*   Create 3 classes named Animals,Dogs,Cats. Add some features to these classes. Create some functions with these attributes. Don't forget! You have to do it using inheritance.\r\n",
        "\r\n",
        "\r\n",
        "\r\n"
      ]
    },
    {
      "cell_type": "code",
      "metadata": {
        "id": "O7n8zSMqM1P6"
      },
      "source": [
        "class Animals():\r\n",
        "  def __init__(self,animal_kind,animal_color,animal_age):\r\n",
        "    self.kind = animal_kind\r\n",
        "    self.color = animal_color\r\n",
        "    self.age = int(animal_age)\r\n",
        "\r\n",
        "  def kind():\r\n",
        "    print(self.kind)\r\n",
        "    return self.kind\r\n",
        "  def color():\r\n",
        "    print(self.color)\r\n",
        "    return self.color\r\n",
        "  def age():\r\n",
        "    print(self.age)\r\n",
        "    return self.age \r\n",
        "\r\n",
        "class Dogs():\r\n",
        "  def __init__(self,dog_kind,dog_color,dog_age):\r\n",
        "    self.kind = dog_kind\r\n",
        "    self.color = dog_color\r\n",
        "    self.age = dog_age\r\n",
        "\r\n",
        "  def kind():\r\n",
        "    print(self.kind)\r\n",
        "    return self.kind\r\n",
        "  def color():\r\n",
        "    print(self.color)\r\n",
        "    return self.color\r\n",
        "  def age():\r\n",
        "    print(self.age)\r\n",
        "    return self.age \r\n",
        "\r\n",
        "\r\n",
        "class Cats():\r\n",
        "  def __init__(self,cat_kind,cat_color,cat_age):\r\n",
        "    self.kind = cat_kind\r\n",
        "    self.color = cat_color\r\n",
        "    self.age = cat_age\r\n",
        "\r\n",
        "  def kind():\r\n",
        "    print(self.kind)\r\n",
        "    return self.kind\r\n",
        "  def color():\r\n",
        "    print(self.color)\r\n",
        "    return self.color\r\n",
        "  def age():\r\n",
        "    print(self.age)\r\n",
        "    return self.age \r\n"
      ],
      "execution_count": 1,
      "outputs": []
    },
    {
      "cell_type": "code",
      "metadata": {
        "colab": {
          "base_uri": "https://localhost:8080/"
        },
        "id": "-zUHAdK6LdKj",
        "outputId": "f14b5f4f-ad38-4c58-ceca-26d1c83c7e5f"
      },
      "source": [
        "animal1 = Animals(\"Hedgedog\",\"Brown\",2)\r\n",
        "print(f\"Animal's Kind is : {animal1.kind}\\nAnimal's Age is : {animal1.age}\\nAnimal's Color is : {animal1.color}\\n\")\r\n"
      ],
      "execution_count": 4,
      "outputs": [
        {
          "output_type": "stream",
          "text": [
            "Animal's Kind is : Hedgedog\n",
            "Animal's Age is : 7\n",
            "Animal's Color is : Brown\n",
            "\n"
          ],
          "name": "stdout"
        }
      ]
    },
    {
      "cell_type": "code",
      "metadata": {
        "colab": {
          "base_uri": "https://localhost:8080/"
        },
        "id": "6FdJDpHpPygZ",
        "outputId": "44e3ea27-4ec3-45d0-e2e3-87f3207ef19c"
      },
      "source": [
        "dog1 = Dogs(\"Pitbull\",\"White\",5)\r\n",
        "print(f\"Dog's Kind is : {dog1.kind}\\nDog's Age is : {dog1.age}\\nDog's Color is : {dog1.color}\\n\")"
      ],
      "execution_count": 5,
      "outputs": [
        {
          "output_type": "stream",
          "text": [
            "Dog's Kind is : Pitbull\n",
            "Dog's Age is : 5\n",
            "Dog's Color is : White\n",
            "\n"
          ],
          "name": "stdout"
        }
      ]
    },
    {
      "cell_type": "code",
      "metadata": {
        "colab": {
          "base_uri": "https://localhost:8080/"
        },
        "id": "k4RM8NyTPyy_",
        "outputId": "21aa5dd8-e881-4b31-da14-eb999e8ef62a"
      },
      "source": [
        "cat1 = Cats(\"Persian\",\"Orange - Black\",1)\r\n",
        "print(f\"Cat's Kind is : {cat1.kind}\\nCat's Age is : {cat1.age}\\nCat's Color is : {cat1.color}\\n\")"
      ],
      "execution_count": 6,
      "outputs": [
        {
          "output_type": "stream",
          "text": [
            "Cat's Kind is : Persian\n",
            "Cat's Age is : 1\n",
            "Cat's Color is : Orange - Black\n",
            "\n"
          ],
          "name": "stdout"
        }
      ]
    }
  ]
}